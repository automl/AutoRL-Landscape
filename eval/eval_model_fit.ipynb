{
 "cells": [
  {
   "cell_type": "code",
   "execution_count": 74,
   "metadata": {},
   "outputs": [
    {
     "name": "stdout",
     "output_type": "stream",
     "text": [
      "\\begin{tabular}{llll}\n",
      "\\toprule\n",
      "{} &                  SAC &                  DQN &                  PPO \\\\\n",
      "{} &   Mean squared error &   Mean squared error &   Mean squared error \\\\\n",
      "Phase &                      &                      &                      \\\\\n",
      "\\midrule\n",
      "1     &  $0.4764 \\pm 0.3680$ &  $0.0044 \\pm 0.0008$ &  $0.0028 \\pm 0.0006$ \\\\\n",
      "2     &  $2.3295 \\pm 0.6123$ &  $0.0466 \\pm 0.0187$ &  $0.0076 \\pm 0.0034$ \\\\\n",
      "3     &  $2.0241 \\pm 0.4517$ &  $0.0587 \\pm 0.0281$ &  $0.0211 \\pm 0.0059$ \\\\\n",
      "4     &  $2.1405 \\pm 0.3728$ &                  NaN &                  NaN \\\\\n",
      "\\bottomrule\n",
      "\\end{tabular}\n",
      "\n"
     ]
    },
    {
     "name": "stderr",
     "output_type": "stream",
     "text": [
      "/tmp/ipykernel_26515/2360120460.py:44: FutureWarning: In future versions `DataFrame.to_latex` is expected to utilise the base implementation of `Styler.to_latex` for formatting and rendering. The arguments signature may therefore change. It is recommended instead to use `DataFrame.style.to_latex` which also contains additional functionality.\n",
      "  print(table.to_latex(escape=False))\n"
     ]
    }
   ],
   "source": [
    "from pathlib import Path\n",
    "import pandas as pd\n",
    "from functools import partial\n",
    "\n",
    "def get_result_str(x, metric: str):\n",
    "    mean = x[metric].mean()\n",
    "    std = x[metric].std()\n",
    "\n",
    "    result = rf\"${mean:.4f} \\pm {std:.4f}$\" \n",
    "    \n",
    "    res = pd.Series({metric: result})\n",
    "    return res\n",
    "\n",
    "\n",
    "model = \"ilm\"  # [\"ilm\", \"igpr\"]\n",
    "\n",
    "agents = [\"sac\", \"dqn\", \"ppo\"]\n",
    "metrics = [\"mean_squared_error\"]  # , \"mean_absolute_error\"]\n",
    "table = []\n",
    "for agent in agents:\n",
    "    fn = Path(f\"../figures/{agent}/{model}_maps/iqm_fit_cv.csv\")\n",
    "    if fn.is_file():\n",
    "        # print(\"-\"*80, agent)\n",
    "        df = pd.read_csv(fn)\n",
    "        # print(df)\n",
    "\n",
    "        result = []\n",
    "        for metric in metrics:\n",
    "            ret = df.groupby(by=\"phase_index\").apply(lambda x: pd.Series({\"metric\": metric, \"mean\": x[metric].mean(), \"std\": x[metric].std()}))\n",
    "            ret = df.groupby(by=\"phase_index\").apply(partial(get_result_str, metric=metric))\n",
    "            result.append(ret)\n",
    "\n",
    "\n",
    "        \n",
    "        result = pd.concat(result, axis=1)\n",
    "        # result[\"agent\"] = agent\n",
    "        table.append(result)\n",
    "    else:\n",
    "        print(\"Did not find\", fn)\n",
    "\n",
    "table = pd.concat(table, axis=1)\n",
    "table.columns = pd.MultiIndex.from_tuples([(a.upper(), m.replace(\"_\", \" \").capitalize()) for a in agents for m in metrics])\n",
    "table.index.name = \"Phase\"\n",
    "print(table.to_latex(escape=False))"
   ]
  }
 ],
 "metadata": {
  "kernelspec": {
   "display_name": "Python 3",
   "language": "python",
   "name": "python3"
  },
  "language_info": {
   "codemirror_mode": {
    "name": "ipython",
    "version": 3
   },
   "file_extension": ".py",
   "mimetype": "text/x-python",
   "name": "python",
   "nbconvert_exporter": "python",
   "pygments_lexer": "ipython3",
   "version": "3.10.9"
  },
  "orig_nbformat": 4
 },
 "nbformat": 4,
 "nbformat_minor": 2
}
